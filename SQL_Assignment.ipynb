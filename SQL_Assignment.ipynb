{
  "nbformat": 4,
  "nbformat_minor": 0,
  "metadata": {
    "colab": {
      "provenance": []
    },
    "kernelspec": {
      "name": "python3",
      "display_name": "Python 3"
    },
    "language_info": {
      "name": "python"
    }
  },
  "cells": [
    {
      "cell_type": "markdown",
      "source": [
        "1. CREATE TABLE employees (\n",
        "\n",
        "    emp_id INT PRIMARY KEY NOT NULL,\n",
        "\n",
        "    emp_name TEXT NOT NULL,\n",
        "\n",
        "    age INT CHECK (age >= 18),\n",
        "\n",
        "    email TEXT UNIQUE,\n",
        "\n",
        "    salary DECIMAL DEFAULT 30000\n",
        "\n",
        ");"
      ],
      "metadata": {
        "id": "f5YojzUGXxpV"
      }
    },
    {
      "cell_type": "markdown",
      "source": [
        "2. Purpose of Constraints\n",
        "\n",
        "  Constraints in a database are rules enforced on data to maintain its integrity and accuracy. They ensure that data is entered, updated, and deleted in a way that adheres to predefined business rules and logic. By preventing invalid or inconsistent data from entering the database, constraints help to:\n",
        "\n",
        "  *   Improve data quality: Constraints enforce data validation rules, ensuring data is accurate and reliable.\n",
        "  *   Maintain data consistency: Constraints ensure data conforms to predefined standards, preventing inconsistencies across the database.\n",
        "  *   Prevent data corruption: Constraints help to prevent accidental or intentional corruption of data by enforcing data integrity rules.\n",
        "  *   Enhance data reliability: By enforcing data accuracy and consistency, constraints make the database more reliable for decision-making.\n",
        "\n",
        "\n",
        "  Common Types of Constraints:\n",
        "\n",
        "  Primary Key (PK) – Ensures each record in a table is unique and not NULL.\n",
        "\n",
        "  Example: CustomerID in a Customers table.\n",
        "\n",
        "  Foreign Key (FK) – Maintains referential integrity by ensuring values in one table match values in another.\n",
        "\n",
        "  Example: OrderID in an Orders table referencing CustomerID in Customers.\n",
        "\n",
        "  Unique – Ensures all values in a column are distinct.\n",
        "\n",
        "  Example: Email in a Users table.\n",
        "\n",
        "  Not Null – Prevents NULL values in a column.\n",
        "  \n",
        "  Example: PhoneNumber must always have a value.\n",
        "\n",
        "  Check – Enforces a condition on column values.\n",
        "\n",
        "  Example: Age >= 18 in a Users table.\n",
        "\n",
        "  Default – Assigns a default value if none is provided.\n",
        "\n",
        "  Example: Status defaults to \"Active\" in an Employees table.\n",
        "\n",
        "\n",
        "\n"
      ],
      "metadata": {
        "id": "gzkPrap5X7ws"
      }
    },
    {
      "cell_type": "markdown",
      "source": [
        "3. The NOT NULL constraint is applied to a column to ensure that it always contains a valid value and does not accept NULLs. This is useful when a field is essential for record integrity, such as a user's email or an order date.\n",
        "\n",
        "  A Primary Key (PK) cannot contain NULL values because it uniquely identifies each record in a table. If a primary key allowed NULLs, it would mean some records might not have a unique identifier, violating the uniqueness rule of primary keys. Since NULL represents an unknown or missing value, allowing it in a primary key would compromise data integrity."
      ],
      "metadata": {
        "id": "gw0S6If0ZHKk"
      }
    },
    {
      "cell_type": "markdown",
      "source": [
        "4. Steps to Add or Remove Constraints in SQL:\n",
        "\n",
        "  Adding a Constraint: Use ALTER TABLE with ADD CONSTRAINT.\n",
        "\n",
        "  Removing a Constraint: Use ALTER TABLE with DROP CONSTRAINT.\n",
        "\n",
        "  Example: Adding a Constraint\n",
        "\n",
        "```\n",
        "# This is formatted as code\n",
        "ALTER TABLE Users\n",
        "MODIFY email VARCHAR(255) NOT NULL;\n",
        "```\n",
        "  Example: Removing a Constraint\n",
        "```\n",
        "# This is formatted as code\n",
        "ALTER TABLE Users\n",
        "MODIFY email VARCHAR(255) NULL;\n",
        "```\n",
        "\n",
        "\n"
      ],
      "metadata": {
        "id": "05mKy0TPZQ3B"
      }
    },
    {
      "cell_type": "markdown",
      "source": [
        "5. When attempting to insert, update, or delete data that violates constraints, the database rejects the operation and returns an error. This prevents inconsistent, duplicate, or invalid data from entering the system.\n",
        "\n",
        "  Examples of Violations & Errors:\n",
        "\n",
        "  *   Primary Key Violation (Duplicate ID):\n",
        "```\n",
        "# This is formatted as code\n",
        "INSERT INTO Users (UserID, Name) VALUES (1, 'John');\n",
        "INSERT INTO Users (UserID, Name) VALUES (1, 'Jane'); -- Error!\n",
        "\n",
        "```\n",
        "\n",
        "  *   Error Message:\n",
        "```\n",
        "# This is formatted as code\n",
        "ERROR: duplicate key value violates unique constraint \"users_pkey\"\n",
        "\n",
        "```\n",
        "\n",
        "\n",
        "\n",
        "\n",
        "\n",
        "\n"
      ],
      "metadata": {
        "id": "QTNzoOMgZ1os"
      }
    },
    {
      "cell_type": "markdown",
      "source": [
        "6. You can modify the existing products table using the ALTER TABLE statement to:\n",
        "\n",
        "  Add a Primary Key to product_id.\n",
        "\n",
        "  Set a Default Value of 50.00 for price.\n",
        "\n",
        "  SQL Commands to Modify the Table:\n",
        "\n",
        "\n",
        "```\n",
        "# This is formatted as code\n",
        "ALTER TABLE products\n",
        "ADD CONSTRAINT pk_product PRIMARY KEY (product_id);\n",
        "\n",
        "ALTER TABLE products\n",
        "ALTER COLUMN price SET DEFAULT 50.00;\n",
        "\n",
        "```\n",
        "\n"
      ],
      "metadata": {
        "id": "QqkqPcW4a1fA"
      }
    },
    {
      "cell_type": "markdown",
      "source": [
        "7.\n",
        "SELECT s.student_name, c.class_name  \n",
        "FROM Students s  \n",
        "INNER JOIN Classes c ON s.class_id = c.class_id;\n"
      ],
      "metadata": {
        "id": "27xRn2OjbY2b"
      }
    },
    {
      "cell_type": "markdown",
      "source": [
        "8.\n",
        "SELECT o.order_id, c.customer_name, p.product_name  \n",
        "FROM Products p  \n",
        "LEFT JOIN Orders o ON p.product_id = o.product_id  \n",
        "INNER JOIN Customers c ON o.customer_id = c.customer_id;\n"
      ],
      "metadata": {
        "id": "Y4t-iwaabm3f"
      }
    },
    {
      "cell_type": "markdown",
      "source": [
        "9. SELECT p.product_name, SUM(o.quantity * o.price) AS total_sales  \n",
        "FROM Orders o  \n",
        "INNER JOIN Products p ON o.product_id = p.product_id  \n",
        "GROUP BY p.product_name;\n"
      ],
      "metadata": {
        "id": "UcZyDMMIbyuB"
      }
    },
    {
      "cell_type": "markdown",
      "source": [
        "10. SELECT o.order_id, c.customer_name, o.quantity  \n",
        "FROM Orders o  \n",
        "INNER JOIN Customers c ON o.customer_id = c.customer_id  \n",
        "INNER JOIN Products p ON o.product_id = p.product_id;\n"
      ],
      "metadata": {
        "id": "J8yjy7xscImd"
      }
    },
    {
      "cell_type": "markdown",
      "source": [
        "SQL Commmands"
      ],
      "metadata": {
        "id": "okPgk1HwcUiR"
      }
    },
    {
      "cell_type": "markdown",
      "source": [
        "1. Identified Primary Keys (PKs):\n",
        "  \n",
        "  A Primary Key uniquely identifies each record in a table and cannot be NULL. Examples from the database:\n",
        "  *   actor table: actor_id (Primary Key)\n",
        "  *   actor_award table: actor_award_id (Primary Key)\n",
        "\n",
        "  Identified Foreign Keys (FKs):\n",
        "\n",
        "  A Foreign Key establishes a relationship between tables by referencing a Primary Key in another table. Examples:\n",
        "  *   actor_award table: actor_id (Foreign Key referencing actor_id in the actor table)\n",
        "\n",
        "  Primary Key (PK):\n",
        "\n",
        "  Ensures each record is unique.No, must always have a value.Uniquely identifies a row.\n",
        "\n",
        "  Foreign Key (FK):\n",
        "\n",
        "  Can have duplicate values.Yes, unless explicitly set to NOT NULL.Establishes relationships between tables.\n"
      ],
      "metadata": {
        "id": "RVt0S_sUfI3S"
      }
    },
    {
      "cell_type": "markdown",
      "source": [
        "2. SELECT * FROM actor;\n"
      ],
      "metadata": {
        "id": "BxPwQgHmiAFZ"
      }
    },
    {
      "cell_type": "markdown",
      "source": [
        "3. SELECT * FROM customer;\n"
      ],
      "metadata": {
        "id": "a1IyeiuviNvC"
      }
    },
    {
      "cell_type": "markdown",
      "source": [
        "4. SELECT DISTINCT country FROM country;\n"
      ],
      "metadata": {
        "id": "LzL77CUciVCl"
      }
    },
    {
      "cell_type": "markdown",
      "source": [
        "5. SELECT * FROM customer  \n",
        "WHERE active = 1;\n"
      ],
      "metadata": {
        "id": "RwX1MPs-idLs"
      }
    },
    {
      "cell_type": "markdown",
      "source": [
        "6. SELECT rental_id FROM rental  \n",
        "WHERE customer_id = 1;\n"
      ],
      "metadata": {
        "id": "GXrEr7IQiiz1"
      }
    },
    {
      "cell_type": "markdown",
      "source": [
        "7. SELECT * FROM film  \n",
        "WHERE rental_duration > 5;\n"
      ],
      "metadata": {
        "id": "Mn-T_erUipDb"
      }
    },
    {
      "cell_type": "markdown",
      "source": [
        "8. SELECT COUNT(*) AS total_films  \n",
        "FROM film  \n",
        "WHERE replacement_cost > 15 AND replacement_cost < 20;\n"
      ],
      "metadata": {
        "id": "Lr4Lufi1ivCV"
      }
    },
    {
      "cell_type": "markdown",
      "source": [
        "9. SELECT COUNT(DISTINCT first_name) AS unique_first_names  \n",
        "FROM actor;\n"
      ],
      "metadata": {
        "id": "MYZtKgoni2g_"
      }
    },
    {
      "cell_type": "markdown",
      "source": [
        "10. SELECT * FROM customer  \n",
        "LIMIT 10;\n"
      ],
      "metadata": {
        "id": "3SXLWoNSi7py"
      }
    },
    {
      "cell_type": "markdown",
      "source": [
        "11. SELECT *\n",
        "FROM customer\n",
        "WHERE first_name LIKE 'B%'\n",
        "LIMIT 3;\n"
      ],
      "metadata": {
        "id": "dRNYY7gEjCM_"
      }
    },
    {
      "cell_type": "markdown",
      "source": [
        "12. SELECT movie_name  \n",
        "FROM movies  \n",
        "WHERE rating = 'G'  \n",
        "LIMIT 5;\n"
      ],
      "metadata": {
        "id": "Ma9ZQ_OBjTd1"
      }
    },
    {
      "cell_type": "markdown",
      "source": [
        "13. SELECT *  \n",
        "FROM Customers  \n",
        "WHERE first_name LIKE 'a%';\n"
      ],
      "metadata": {
        "id": "IidPTwBLjb4V"
      }
    },
    {
      "cell_type": "markdown",
      "source": [
        "14. SELECT * FROM Customers  \n",
        "WHERE first_name LIKE '%a';\n"
      ],
      "metadata": {
        "id": "oNG_aVMGjio0"
      }
    },
    {
      "cell_type": "markdown",
      "source": [
        "15. SELECT city  \n",
        "FROM Cities  \n",
        "WHERE city LIKE 'a%A'  \n",
        "LIMIT 4;\n"
      ],
      "metadata": {
        "id": "2ryjGOMHj0TJ"
      }
    },
    {
      "cell_type": "markdown",
      "source": [
        "16. SELECT * FROM Customers  \n",
        "WHERE first_name LIKE '%NI%';\n"
      ],
      "metadata": {
        "id": "STJmOOe_j-Ha"
      }
    },
    {
      "cell_type": "markdown",
      "source": [
        "17. SELECT * FROM Customers  \n",
        "WHERE first_name LIKE '_r%';\n"
      ],
      "metadata": {
        "id": "QHIckOKjkFei"
      }
    },
    {
      "cell_type": "markdown",
      "source": [
        "18. SELECT *  \n",
        "FROM Customers  \n",
        "WHERE first_name LIKE 'A%'  \n",
        "AND LENGTH(first_name) >= 5;\n"
      ],
      "metadata": {
        "id": "i5MIu9gXkMoX"
      }
    },
    {
      "cell_type": "markdown",
      "source": [
        "19. SELECT * FROM Customers\n",
        "WHERE first_name LIKE 'A%o';\n"
      ],
      "metadata": {
        "id": "S4Y0QxGokTag"
      }
    },
    {
      "cell_type": "markdown",
      "source": [
        "20. SELECT * FROM films  \n",
        "WHERE rating IN ('PG', 'PG-13');\n"
      ],
      "metadata": {
        "id": "8iYRCks2kaWO"
      }
    },
    {
      "cell_type": "markdown",
      "source": [
        "21. SELECT *\n",
        "FROM films\n",
        "WHERE length BETWEEN 50 AND 100;\n"
      ],
      "metadata": {
        "id": "PVw8R9MCkh_X"
      }
    },
    {
      "cell_type": "markdown",
      "source": [
        "22. SELECT * FROM Actors  \n",
        "LIMIT 50;\n"
      ],
      "metadata": {
        "id": "sbToXlF5kr_H"
      }
    },
    {
      "cell_type": "markdown",
      "source": [
        "23. SELECT DISTINCT film_id FROM inventory;\n"
      ],
      "metadata": {
        "id": "tLO1cMzek8B1"
      }
    },
    {
      "cell_type": "markdown",
      "source": [
        "Functions"
      ],
      "metadata": {
        "id": "PVoEfs4VlENT"
      }
    },
    {
      "cell_type": "markdown",
      "source": [
        "1. SELECT COUNT(rental_id) AS total_rentals  \n",
        "FROM rental;\n"
      ],
      "metadata": {
        "id": "Z81-TZpnlLjB"
      }
    },
    {
      "cell_type": "markdown",
      "source": [
        "2. SELECT AVG(rental_duration) AS avg_rental_duration  \n",
        "FROM film;\n"
      ],
      "metadata": {
        "id": "SvbClN8TllxB"
      }
    },
    {
      "cell_type": "markdown",
      "source": [
        "3. SELECT UPPER(first_name) AS first_name_upper, UPPER(last_name) AS last_name_upper  \n",
        "FROM Customers;\n"
      ],
      "metadata": {
        "id": "DSHSPdg6lu1g"
      }
    },
    {
      "cell_type": "markdown",
      "source": [
        "4. SELECT rental_id, MONTH(rental_date) AS rental_month  \n",
        "FROM rental;\n"
      ],
      "metadata": {
        "id": "CBIO_-g_l2s3"
      }
    },
    {
      "cell_type": "markdown",
      "source": [
        "5. SELECT customer_id, COUNT(rental_id) AS rental_count\n",
        "FROM rental\n",
        "GROUP BY customer_id;"
      ],
      "metadata": {
        "id": "U9CE3eu5mLFs"
      }
    },
    {
      "cell_type": "markdown",
      "source": [
        "6.\n",
        "SELECT\n",
        "  store.store_id,\n",
        "  SUM(payment.amount) AS total_revenue\n",
        "FROM\n",
        "  store\n",
        "JOIN\n",
        "  staff  ON store.store_id = staff.store_id\n",
        "JOIN\n",
        "  payment ON staff.staff_id = payment.staff_id\n",
        "GROUP BY\n",
        "  store.store_id;"
      ],
      "metadata": {
        "id": "MnjoR4oAmrCM"
      }
    },
    {
      "cell_type": "markdown",
      "source": [
        "7. SELECT category.name AS category_name, COUNT(rental.rental_id) AS total_rentals\n",
        "FROM category\n",
        "JOIN film_category ON category.category_id = film_category.category_id\n",
        "JOIN inventory i ON film_categoryc.film_id = i.film_id\n",
        "JOIN rental ON i.inventory_id = r.inventory_id\n",
        "GROUP BY category.name\n",
        "ORDER BY total_rentals DESC;"
      ],
      "metadata": {
        "id": "Xij8_C_HnPGY"
      }
    },
    {
      "cell_type": "markdown",
      "source": [
        "8. SELECT\n",
        "  l.name AS language_name,\n",
        "  AVG(f.rental_rate) AS average_rental_rate\n",
        "FROM\n",
        "  language l\n",
        "JOIN\n",
        "  film f ON l.language_id = f.language_id\n",
        "GROUP BY\n",
        "  l.name;"
      ],
      "metadata": {
        "id": "6Q54EN8Soa2L"
      }
    },
    {
      "cell_type": "markdown",
      "source": [
        "Joins"
      ],
      "metadata": {
        "id": "SoDId_McolXV"
      }
    },
    {
      "cell_type": "markdown",
      "source": [
        "9.\n",
        "SELECT\n",
        "  film.title AS movie_title,\n",
        "  customer.first_name AS customer_first_name,\n",
        "  customer.last_name AS customer_last_name\n",
        "FROM\n",
        "  film f\n",
        "JOIN\n",
        "  inventory i ON f.film_id = i.film_id\n",
        "JOIN\n",
        "  rental r ON i.inventory_id = r.inventory_id\n",
        "JOIN\n",
        "  customer c ON r.customer_id = c.customer_id;"
      ],
      "metadata": {
        "id": "tUO_Ns0Yon9J"
      }
    },
    {
      "cell_type": "markdown",
      "source": [
        "10.\n",
        "SELECT actor.first_name, actor.last_name\n",
        "FROM actor\n",
        "JOIN film_actor fa ON actor.actor_id = fa.actor_id\n",
        "JOIN film f ON fa.film_id = f.film_id\n",
        "WHERE f.title = 'Gone with the Wind';"
      ],
      "metadata": {
        "id": "rWXVDwfWHUXO"
      }
    },
    {
      "cell_type": "markdown",
      "source": [
        "11.\n",
        "SELECT\n",
        "  c.first_name,\n",
        "  c.last_name,\n",
        "  SUM(p.amount) AS total_spent\n",
        "FROM\n",
        "  customer c\n",
        "JOIN\n",
        "  payment p ON c.customer_id = p.customer_id\n",
        "GROUP BY\n",
        "  c.customer_id, c.first_name, c.last_name\n",
        "ORDER BY total_spent DESC;"
      ],
      "metadata": {
        "id": "BpQF4dHeHnBy"
      }
    },
    {
      "cell_type": "markdown",
      "source": [
        "12.\n",
        "SELECT\n",
        "  c.first_name,\n",
        "  c.last_name,\n",
        "  GROUP_CONCAT(f.title) AS rented_movies  \n",
        "FROM\n",
        "  customer c\n",
        "JOIN\n",
        "  address a ON c.address_id = a.address_id\n",
        "JOIN\n",
        "  city ci ON a.city_id = ci.city_id\n",
        "JOIN\n",
        "  rental r ON c.customer_id = r.customer_id\n",
        "JOIN\n",
        "  inventory i ON r.inventory_id = i.inventory_id\n",
        "JOIN\n",
        "  film f ON i.film_id = f.film_id\n",
        "WHERE\n",
        "  ci.city = 'London'  \n",
        "GROUP BY\n",
        "  c.customer_id, c.first_name, c.last_name;"
      ],
      "metadata": {
        "id": "h8u95jLXIr2b"
      }
    },
    {
      "cell_type": "markdown",
      "source": [
        "13.\n",
        "SELECT\n",
        "  f.title,\n",
        "  COUNT(r.rental_id) AS rental_count\n",
        "FROM\n",
        "  film f\n",
        "JOIN\n",
        "  inventory i ON f.film_id = i.film_id\n",
        "JOIN\n",
        "  rental r ON i.inventory_id = r.inventory_id\n",
        "GROUP BY\n",
        "  f.film_id, f.title  \n",
        "ORDER BY\n",
        "  rental_count DESC\n",
        "LIMIT 5;"
      ],
      "metadata": {
        "id": "GY746zL_JB0L"
      }
    },
    {
      "cell_type": "markdown",
      "source": [
        "14.\n",
        "SELECT\n",
        "  c.first_name,\n",
        "  c.last_name\n",
        "FROM\n",
        "  customer c\n",
        "JOIN\n",
        "  rental r ON c.customer_id = r.customer_id\n",
        "JOIN\n",
        "  inventory i ON r.inventory_id = i.inventory_id\n",
        "WHERE\n",
        "  i.store_id IN (1, 2)  \n",
        "GROUP BY\n",
        "  c.customer_id, c.first_name, c.last_name\n",
        "HAVING\n",
        "  COUNT(DISTINCT i.store_id) = 2;"
      ],
      "metadata": {
        "id": "V0OLKTNbJO2T"
      }
    },
    {
      "cell_type": "markdown",
      "source": [
        "Windows Function:"
      ],
      "metadata": {
        "id": "vr57KjKiJu8d"
      }
    },
    {
      "cell_type": "markdown",
      "source": [
        "1.\n",
        "SELECT\n",
        "  customer_id,\n",
        "  SUM(rental_amount) AS total_spent\n",
        "FROM\n",
        "  rentals\n",
        "GROUP BY\n",
        "  customer_id\n",
        "ORDER BY\n",
        "  total_spent DESC;"
      ],
      "metadata": {
        "id": "BlQN8xtFKCTH"
      }
    },
    {
      "cell_type": "markdown",
      "source": [
        "2.\n",
        "SELECT\n",
        "  film_id,\n",
        "  rental_date,\n",
        "  SUM(rental_amount) OVER (PARTITION BY film_id ORDER BY rental_date) AS cumulative_revenue\n",
        "FROM\n",
        "  rentals\n",
        "ORDER BY\n",
        "  film_id, rental_date;"
      ],
      "metadata": {
        "id": "h1m1Ost1LUh_"
      }
    },
    {
      "cell_type": "markdown",
      "source": [
        "3.\n",
        "SELECT\n",
        "  film_length,\n",
        "  AVG(rental_duration) AS average_rental_duration\n",
        "FROM\n",
        "  films\n",
        "GROUP BY\n",
        "  film_length\n",
        "ORDER BY\n",
        "  film_length;"
      ],
      "metadata": {
        "id": "auqdMx2wLh-K"
      }
    },
    {
      "cell_type": "markdown",
      "source": [
        "4.\n",
        "WITH RankedFilms AS (\n",
        "  SELECT\n",
        "  f.film_id,\n",
        "  f.title,\n",
        "  c.category_name,\n",
        "  COUNT(r.rental_id) AS rental_count,\n",
        "  ROW_NUMBER() OVER (PARTITION BY c.category_name ORDER BY COUNT(r.rental_id) DESC) AS rank\n",
        "  FROM films f\n",
        "  JOIN categories c ON f.category_id = c.category_id\n",
        "  LEFT JOIN rentals r ON f.film_id = r.film_id\n",
        "  GROUP BY f.film_id, f.title, c.category_name\n",
        ")\n",
        "SELECT\n",
        "    film_id,\n",
        "    title,\n",
        "    category_name,\n",
        "    rental_count\n",
        "FROM\n",
        "    RankedFilms\n",
        "WHERE\n",
        "    rank <= 3\n",
        "ORDER BY\n",
        "    category_name, rental_count DESC;"
      ],
      "metadata": {
        "id": "LEz7aNtELu5N"
      }
    },
    {
      "cell_type": "markdown",
      "source": [
        "5.\n",
        "WITH CustomerRentals AS (\n",
        "SELECT  customer_id,\n",
        " COUNT(rental_id) AS total_rentals\n",
        "FROM  rentals\n",
        "GROUP BY  customer_id\n",
        "),\n",
        "AverageRentals AS (\n",
        "SELECT AVG(total_rentals) AS avg_rentals\n",
        "FROM CustomerRentals\n",
        ")\n",
        "SELECT\n",
        "  cr.customer_id,\n",
        "    cr.total_rentals,\n",
        "    ar.avg_rentals,\n",
        "    (cr.total_rentals - ar.avg_rentals) AS rental_difference\n",
        "FROM\n",
        "    CustomerRentals cr,\n",
        "    AverageRentals ar\n",
        "ORDER BY\n",
        "    rental_difference DESC;"
      ],
      "metadata": {
        "id": "72b3OAWDMMdY"
      }
    },
    {
      "cell_type": "markdown",
      "source": [
        "6.\n",
        "SELECT\n",
        "    DATE_TRUNC('month', rental_date) AS month,\n",
        "    SUM(rental_amount) AS total_revenue\n",
        "FROM\n",
        "    rentals\n",
        "GROUP BY\n",
        "    month\n",
        "ORDER BY\n",
        "    month;"
      ],
      "metadata": {
        "id": "DWLgLoagMe_X"
      }
    },
    {
      "cell_type": "markdown",
      "source": [
        "7.\n",
        "WITH CustomerSpending AS (\n",
        "  SELECT customer_id,\n",
        "    SUM(rental_amount) AS total_spent\n",
        "  FROM rentals\n",
        "  GROUP BY customer_id\n",
        "),\n",
        "SpendingThreshold AS (\n",
        "  SELECT\n",
        "     PERCENTILE_CONT(0.8) WITHIN GROUP (ORDER BY total_spent) AS threshold\n",
        "  FROM CustomerSpending\n",
        ")\n",
        "SELECT\n",
        "    cs.customer_id,\n",
        "    cs.total_spent\n",
        "FROM\n",
        "    CustomerSpending cs,\n",
        "    SpendingThreshold st\n",
        "WHERE\n",
        "    cs.total_spent >= st.threshold\n",
        "ORDER BY\n",
        "    cs.total_spent DESC;"
      ],
      "metadata": {
        "id": "-GqzFMheMnUy"
      }
    },
    {
      "cell_type": "markdown",
      "source": [
        "8.\n",
        "WITH CategoryRentals AS (\n",
        "    SELECT c.category_name,\n",
        "    COUNT(r.rental_id) AS rental_count\n",
        "    FROM categories c\n",
        "    LEFT JOIN\n",
        "      films f ON c.category_id = f.category_id\n",
        "    LEFT JOIN\n",
        "      rentals r ON f.film_id = r.film_id\n",
        "    GROUP BY\n",
        "      c.category_name\n",
        ")\n",
        "SELECT\n",
        "    category_name,\n",
        "    rental_count,\n",
        "    SUM(rental_count) OVER (ORDER BY rental_count) AS running_total\n",
        "FROM\n",
        "    CategoryRentals\n",
        "ORDER BY\n",
        "    rental_count;"
      ],
      "metadata": {
        "id": "-fxNc1EOM79J"
      }
    },
    {
      "cell_type": "markdown",
      "source": [
        "9.\n",
        "WITH FilmRentals AS (\n",
        "    SELECT\n",
        "      f.film_id,\n",
        "      f.title,\n",
        "      c.category_name,\n",
        "      COUNT(r.rental_id) AS rental_count\n",
        "    FROM films f\n",
        "    JOIN\n",
        "      categories c ON f.category_id = c.category_id\n",
        "    LEFT JOIN\n",
        "      rentals r ON f.film_id = r.film_id\n",
        "    GROUP BY\n",
        "      f.film_id, f.title, c.category_name\n",
        "),\n",
        "CategoryAverages AS (\n",
        "    SELECT category_name,\n",
        "      AVG(rental_count) AS avg_rental_count\n",
        "    FROM FilmRentals\n",
        "    GROUP BY category_name\n",
        ")\n",
        "SELECT\n",
        "    fr.film_id,\n",
        "    fr.title,\n",
        "    fr.category_name,\n",
        "    fr.rental_count\n",
        "FROM\n",
        "    FilmRentals fr\n",
        "JOIN\n",
        "    CategoryAverages ca ON fr.category_name = ca.category_name\n",
        "WHERE\n",
        "    fr.rental_count < ca.avg_rental_count\n",
        "ORDER BY\n",
        "    fr.category_name, fr.rental_count;"
      ],
      "metadata": {
        "id": "HM1ooKcnNJpI"
      }
    },
    {
      "cell_type": "markdown",
      "source": [
        "10.\n",
        "SELECT\n",
        "    DATE_TRUNC('month', rental_date) AS month,\n",
        "    SUM(rental_amount) AS total_revenue\n",
        "FROM\n",
        "    rentals\n",
        "GROUP BY\n",
        "    month\n",
        "ORDER BY\n",
        "    total_revenue DESC\n",
        "LIMIT 5;"
      ],
      "metadata": {
        "id": "xKRYqmvVNdNG"
      }
    },
    {
      "cell_type": "markdown",
      "source": [
        "Normalisation & CTE"
      ],
      "metadata": {
        "id": "hYe4QYW1Nk8t"
      }
    },
    {
      "cell_type": "markdown",
      "source": [
        "1. Step 1: Identify Non-Atomic Values\n",
        "\n",
        "  Identify the columns that contain non-atomic values. In this case, the category column.\n",
        "\n",
        "  Step 2: Create a New Table for Categories\n",
        "\n",
        "  Create a new table to store categories separately. This new table will have a unique identifier for each category.\n",
        "\n",
        "```\n",
        "  CREATE TABLE film_category (\n",
        "    film_id INT,\n",
        "    category_id INT,\n",
        "    PRIMARY KEY (film_id, category_id),\n",
        "    FOREIGN KEY (film_id) REFERENCES film(film_id),\n",
        "    FOREIGN KEY (category_id) REFERENCES category(category_id)\n",
        "  );\n",
        "```\n",
        "  Step 3: Populate the New Table\n",
        "\n",
        "  Populate the film_category table with the appropriate relationships between films and categories. Each film will have a separate row for each category it belongs to.\n",
        "\n",
        "```\n",
        "INSERT INTO film_category (film_id, category_id)\n",
        "SELECT f.film_id, c.category_id\n",
        "FROM film f\n",
        "JOIN film_category fc ON f.film_id = fc.film_id\n",
        "JOIN category c ON c.category_name IN (SELECT category_name FROM film_category WHERE film_id = f.film_id);\n",
        "```\n",
        "\n",
        "  Step 4: Remove Non-Atomic Values from the Original Table\n",
        "\n",
        "  Remove the non-atomic category column from the original film table, ensuring that each film has a unique entry in the film table.\n",
        "\n",
        "  Step 5: Ensure All Other Columns are Atomic\n",
        "\n",
        "  Review all other columns in the film table to ensure they contain atomic values and meet the requirements of 1NF.\n"
      ],
      "metadata": {
        "id": "0JJpaiuUNspY"
      }
    },
    {
      "cell_type": "markdown",
      "source": [
        "2. considering that the film_actor table in the Sakila database, which is used to associate films with their respective actors.\n",
        "\n",
        "  Determining Whether the film_actor Table is in 2NF:\n",
        "\n",
        "  Definition of 2NF:\n",
        "\n",
        "  A table is in Second Normal Form (2NF) if:\n",
        "  It is already in First Normal Form (1NF).\n",
        "  All non-key attributes are fully functionally dependent on the entire primary key (i.e., there are no partial dependencies).\n",
        "  \n",
        "  Structure of the film_actor Table:\n",
        "\n",
        "  The film_actor table typically has the following columns:\n",
        "  film_id (part of the primary key)\n",
        "  actor_id (part of the primary key)\n",
        "  Other attributes (if any, such as last_update)\n",
        "\n",
        "  Checking for 1NF:\n",
        "\n",
        "  Ensure that the film_actor table is in 1NF:\n",
        "  Each column contains atomic values.\n",
        "  Each column has unique names.\n",
        "  The order of data does not matter.\n",
        "  The film_actor table is likely in 1NF as it contains unique pairs of film_id and actor_id.\n",
        "  Checking for Partial Dependencies:\n",
        "\n",
        "  The primary key for the film_actor table is a composite key consisting of film_id and actor_id.\n",
        "  Check if there are any non-key attributes that depend only on part of the primary key:\n",
        "  If there are additional attributes (e.g., last_update), they should depend on the entire primary key, not just one part of it.\n",
        "  If last_update is dependent only on film_id or actor_id, then the table violates 2NF.\n",
        "\n",
        "  Steps to Normalize the film_actor Table to Achieve 2NF:\n",
        "\n",
        "  Identify Partial Dependencies:\n",
        "\n",
        "  Determine which non-key attributes depend only on part of the composite primary key.\n",
        "\n",
        "  Create New Tables:\n",
        "\n",
        "  If there are non-key attributes that depend only on film_id, create a new table for films. If there are attributes that depend only on actor_id, create a new table for actors.\n",
        "\n",
        "  Update the film_actor Table:\n",
        "\n",
        "  Remove any non-key attributes from the film_actor table that are now stored in the new film and actor tables.\n",
        "  \n",
        "  The film_actor table should only contain the composite primary key and any attributes that are directly related to the relationship between films and actors.\n",
        "\n",
        "  Populate the New Tables:\n",
        "\n",
        "  Insert the relevant data into the new film and actor tables from the original film_actor table.\n",
        "\n",
        "  Ensure All Non-Key Attributes are Fully Dependent:\n",
        "\n",
        "  Review the new structure to ensure that all non-key attributes in the film and actor tables are fully dependent on their respective primary keys"
      ],
      "metadata": {
        "id": "lC67qUZVOp0e"
      }
    },
    {
      "cell_type": "markdown",
      "source": [
        "3. considering the customer table in the Sakila database, which contains information about customers.\n",
        "\n",
        "  Transitive Dependencies in the customer Table:\n",
        "\n",
        "  Structure of the customer Table:\n",
        "\n",
        "  The customer table typically has the following columns:\n",
        "\n",
        "  customer_id (Primary Key)\n",
        "  store_id (Foreign Key)\n",
        "  first_name\n",
        "  last_name\n",
        "  email\n",
        "  address_id (Foreign Key)\n",
        "  active\n",
        "  create_date\n",
        "  last_update\n",
        "  \n",
        "  Additionally, the address_id can be linked to an address table that contains address details.\n",
        "\n",
        "  Transitive Dependency:\n",
        "\n",
        "  A transitive dependency occurs when a non-key attribute depends on another non-key attribute rather than directly on the primary key.\n",
        "\n",
        "  In the customer table, there is a transitive dependency:\n",
        "\n",
        "  customer_id → address_id → address (where address includes fields like address, district, city_id, etc.)\n",
        "\n",
        "  Here, address_id is a non-key attribute that determines the address details, which are not directly dependent on customer_id. This means that if you change the address for a customer, you also need to update the address details in the address table, leading to potential anomalies.\n",
        "\n",
        "  Steps to Normalize the customer Table to Achieve 3NF:\n",
        "\n",
        "  Identify Transitive Dependencies:\n",
        "\n",
        "  Recognize that address_id is causing a transitive dependency by linking to the address table.\n",
        "\n",
        "  Create a Separate Address Table:\n",
        "\n",
        "  Ensure that the address table is properly defined and contains all relevant address details.\n",
        "\n",
        "  Remove Transitive Dependencies from the Customer Table:\n",
        "\n",
        "  Ensure that the customer table only contains attributes that are directly dependent on the primary key (customer_id).\n",
        "\n",
        "  The customer table should reference the address table through address_id without including address details directly in the customer table.\n",
        "\n",
        "  Update the Customer Table Structure.\n",
        "\n",
        "  Ensure All Non-Key Attributes are Fully Dependent:\n",
        "\n",
        "  Review the customer table to ensure that all non-key attributes are fully functionally dependent on the primary key (customer_id) and that there are no transitive dependencies.\n",
        "\n",
        "  Populate the Address Table:\n",
        "\n",
        "  If necessary, populate the address table with existing address data from the customer table to maintain data integrity."
      ],
      "metadata": {
        "id": "XUbs8YSMQEw4"
      }
    },
    {
      "cell_type": "markdown",
      "source": [
        "4. film_category_unnormalized (\n",
        "    film_id INT,\n",
        "    title VARCHAR(255),\n",
        "    categories VARCHAR(255)  -- Comma-separated list of categories\n",
        ")\n",
        "\n"
      ],
      "metadata": {
        "id": "qcsiodgqRDUc"
      }
    },
    {
      "cell_type": "markdown",
      "source": [
        "5. WITH ActorFilmCount AS (\n",
        "    SELECT\n",
        "      a.actor_id,\n",
        "      CONCAT(a.first_name, ' ', a.last_name) AS actor_name,\n",
        "      COUNT(fa.film_id) AS film_count\n",
        "    FROM actor a\n",
        "    LEFT JOIN\n",
        "      film_actor fa ON a.actor_id = fa.actor_id\n",
        "    GROUP BY\n",
        "      a.actor_id, a.first_name, a.last_name\n",
        ")\n",
        "SELECT\n",
        "    actor_name,\n",
        "    film_count\n",
        "FROM\n",
        "    ActorFilmCount\n",
        "ORDER BY\n",
        "    film_count DESC;"
      ],
      "metadata": {
        "id": "GPgVHoFRReTC"
      }
    },
    {
      "cell_type": "markdown",
      "source": [
        "6. WITH FilmLanguageInfo AS (\n",
        "    SELECT\n",
        "      f.title AS film_title,\n",
        "      l.name AS language_name,\n",
        "      f.rental_rate\n",
        "    FROM film f\n",
        "    JOIN\n",
        "      language l ON f.language_id = l.language_id\n",
        ")\n",
        "SELECT\n",
        "    film_title,\n",
        "    language_name,\n",
        "    rental_rate\n",
        "FROM\n",
        "    FilmLanguageInfo\n",
        "ORDER BY\n",
        "    film_title;"
      ],
      "metadata": {
        "id": "6ZuZrg9YR4md"
      }
    },
    {
      "cell_type": "markdown",
      "source": [
        "7. WITH CustomerRevenue AS (\n",
        "    SELECT\n",
        "      c.customer_id,\n",
        "      CONCAT(c.first_name, ' ', c.last_name) AS customer_name,\n",
        "      SUM(p.amount) AS total_revenue\n",
        "    FROM customer c\n",
        "    JOIN\n",
        "      payment p ON c.customer_id = p.customer_id\n",
        "    GROUP BY\n",
        "      c.customer_id, c.first_name, c.last_name\n",
        ")\n",
        "SELECT\n",
        "    customer_id,\n",
        "    customer_name,\n",
        "    total_revenue\n",
        "FROM\n",
        "    CustomerRevenue\n",
        "ORDER BY\n",
        "    total_revenue DESC;"
      ],
      "metadata": {
        "id": "jcrE4gj1SIs3"
      }
    },
    {
      "cell_type": "markdown",
      "source": [
        "8. WITH RankedFilms AS (\n",
        "    SELECT\n",
        "      f.film_id,\n",
        "      f.title,\n",
        "      f.rental_duration,\n",
        "      RANK() OVER (ORDER BY f.rental_duration DESC) AS rental_rank\n",
        "    FROM film f\n",
        ")\n",
        "SELECT\n",
        "    film_id,\n",
        "    title,\n",
        "    rental_duration,\n",
        "    rental_rank\n",
        "FROM\n",
        "    RankedFilms\n",
        "ORDER BY\n",
        "    rental_rank;"
      ],
      "metadata": {
        "id": "xnp4UG-RVD_C"
      }
    },
    {
      "cell_type": "markdown",
      "source": [
        "9. WITH CustomerRentalCount AS (\n",
        "    SELECT\n",
        "      c.customer_id,\n",
        "      CONCAT(c.first_name, ' ', c.last_name) AS customer_name,\n",
        "      COUNT(p.payment_id) AS rental_count\n",
        "    FROM customer c\n",
        "    JOIN\n",
        "      payment p ON c.customer_id = p.customer_id\n",
        "    GROUP BY\n",
        "      c.customer_id, c.first_name, c.last_name\n",
        "    HAVING COUNT(p.payment_id) > 2\n",
        ")\n",
        "SELECT\n",
        "    crc.customer_id,\n",
        "    crc.customer_name,\n",
        "    c.email,\n",
        "    c.active,\n",
        "    c.create_date,\n",
        "    c.last_update\n",
        "FROM\n",
        "    CustomerRentalCount crc\n",
        "JOIN\n",
        "    customer c ON crc.customer_id = c.customer_id\n",
        "ORDER BY\n",
        "    crc.customer_name;"
      ],
      "metadata": {
        "id": "RQ-HcikNVO8Z"
      }
    },
    {
      "cell_type": "markdown",
      "source": [
        "10. WITH MonthlyRentals AS (\n",
        "    SELECT\n",
        "      DATE_TRUNC('month', rental_date) AS rental_month,\n",
        "      COUNT(*) AS total_rentals\n",
        "    FROM rental\n",
        "    GROUP BY\n",
        "      DATE_TRUNC('month', rental_date)\n",
        ")\n",
        "SELECT\n",
        "    rental_month,\n",
        "    total_rentals\n",
        "FROM\n",
        "    MonthlyRentals\n",
        "ORDER BY\n",
        "    rental_month;"
      ],
      "metadata": {
        "id": "WllmADhWVexZ"
      }
    },
    {
      "cell_type": "markdown",
      "source": [
        "11. WITH ActorPairs AS (\n",
        "    SELECT\n",
        "      fa1.actor_id AS actor1_id,\n",
        "      fa2.actor_id AS actor2_id,\n",
        "      fa1.film_id\n",
        "    FROM film_actor fa1\n",
        "    JOIN\n",
        "      film_actor fa2 ON fa1.film_id = fa2.film_id\n",
        "    WHERE\n",
        "      fa1.actor_id < fa2.actor_id  -- Ensures each pair is unique and avoids duplicates\n",
        ")\n",
        "SELECT\n",
        "    ap.actor1_id,\n",
        "    ap.actor2_id,\n",
        "    COUNT(*) AS films_together\n",
        "FROM\n",
        "    ActorPairs ap\n",
        "GROUP BY\n",
        "    ap.actor1_id, ap.actor2_id\n",
        "ORDER BY\n",
        "    films_together DESC;"
      ],
      "metadata": {
        "id": "aBmKvBi_Vto-"
      }
    },
    {
      "cell_type": "markdown",
      "source": [
        "12. WITH RECURSIVE EmployeeHierarchy AS (\n",
        "    -- Anchor member: Select the specific manager\n",
        "    SELECT\n",
        "      staff_id,\n",
        "      first_name,\n",
        "      last_name,\n",
        "      reports_to\n",
        "    FROM staff\n",
        "    WHERE\n",
        "      staff_id = <specific_manager_id>  -- Replace <specific_manager_id> with the actual manager's ID\n",
        "\n",
        "    UNION ALL\n",
        "\n",
        "    -- Recursive member: Select employees who report to the employees found in the previous step\n",
        "    SELECT\n",
        "      s.staff_id,\n",
        "      s.first_name,\n",
        "      s.last_name,\n",
        "      s.reports_to\n",
        "    FROM staff s\n",
        "    INNER JOIN\n",
        "      EmployeeHierarchy eh ON s.reports_to = eh.staff_id\n",
        ")\n",
        "SELECT\n",
        "    staff_id,\n",
        "    first_name,\n",
        "    last_name\n",
        "FROM\n",
        "    EmployeeHierarchy\n",
        "ORDER BY\n",
        "    last_name, first_name;"
      ],
      "metadata": {
        "id": "f5WVyP_7V7RZ"
      }
    }
  ]
}